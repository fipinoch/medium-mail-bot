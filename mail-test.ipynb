{
 "cells": [
  {
   "cell_type": "code",
   "execution_count": 1,
   "id": "f68fda60",
   "metadata": {},
   "outputs": [
    {
     "data": {
      "application/javascript": "\n            setTimeout(function() {\n                var nbb_cell_id = 1;\n                var nbb_unformatted_code = \"%load_ext nb_black\";\n                var nbb_formatted_code = \"%load_ext nb_black\";\n                var nbb_cells = Jupyter.notebook.get_cells();\n                for (var i = 0; i < nbb_cells.length; ++i) {\n                    if (nbb_cells[i].input_prompt_number == nbb_cell_id) {\n                        if (nbb_cells[i].get_text() == nbb_unformatted_code) {\n                             nbb_cells[i].set_text(nbb_formatted_code);\n                        }\n                        break;\n                    }\n                }\n            }, 500);\n            ",
      "text/plain": [
       "<IPython.core.display.Javascript object>"
      ]
     },
     "metadata": {},
     "output_type": "display_data"
    }
   ],
   "source": [
    "%load_ext nb_black"
   ]
  },
  {
   "cell_type": "code",
   "execution_count": 2,
   "id": "4aa33a0d",
   "metadata": {},
   "outputs": [
    {
     "data": {
      "application/javascript": "\n            setTimeout(function() {\n                var nbb_cell_id = 2;\n                var nbb_unformatted_code = \"import smtplib\\nfrom email.mime.multipart import MIMEMultipart\\nfrom email.mime.text import MIMEText\\nfrom dotenv import load_dotenv\\nimport os\\n\\nfrom urllib.request import urlopen\\nfrom bs4 import BeautifulSoup\";\n                var nbb_formatted_code = \"import smtplib\\nfrom email.mime.multipart import MIMEMultipart\\nfrom email.mime.text import MIMEText\\nfrom dotenv import load_dotenv\\nimport os\\n\\nfrom urllib.request import urlopen\\nfrom bs4 import BeautifulSoup\";\n                var nbb_cells = Jupyter.notebook.get_cells();\n                for (var i = 0; i < nbb_cells.length; ++i) {\n                    if (nbb_cells[i].input_prompt_number == nbb_cell_id) {\n                        if (nbb_cells[i].get_text() == nbb_unformatted_code) {\n                             nbb_cells[i].set_text(nbb_formatted_code);\n                        }\n                        break;\n                    }\n                }\n            }, 500);\n            ",
      "text/plain": [
       "<IPython.core.display.Javascript object>"
      ]
     },
     "metadata": {},
     "output_type": "display_data"
    }
   ],
   "source": [
    "import smtplib\n",
    "from email.mime.multipart import MIMEMultipart\n",
    "from email.mime.text import MIMEText\n",
    "from dotenv import load_dotenv\n",
    "import os\n",
    "\n",
    "from urllib.request import urlopen\n",
    "from bs4 import BeautifulSoup"
   ]
  },
  {
   "cell_type": "code",
   "execution_count": 3,
   "id": "ba9d353b",
   "metadata": {},
   "outputs": [
    {
     "data": {
      "application/javascript": "\n            setTimeout(function() {\n                var nbb_cell_id = 3;\n                var nbb_unformatted_code = \"url = \\\"http://web.directemar.cl/met/jturno/PRONOSTICOS/Cenmeteopmo/72/pmontt72.txt\\\"\\nhtml = urlopen(url).read()\\nsoup = BeautifulSoup(html, features=\\\"html.parser\\\")\\nmail_content = soup\";\n                var nbb_formatted_code = \"url = \\\"http://web.directemar.cl/met/jturno/PRONOSTICOS/Cenmeteopmo/72/pmontt72.txt\\\"\\nhtml = urlopen(url).read()\\nsoup = BeautifulSoup(html, features=\\\"html.parser\\\")\\nmail_content = soup\";\n                var nbb_cells = Jupyter.notebook.get_cells();\n                for (var i = 0; i < nbb_cells.length; ++i) {\n                    if (nbb_cells[i].input_prompt_number == nbb_cell_id) {\n                        if (nbb_cells[i].get_text() == nbb_unformatted_code) {\n                             nbb_cells[i].set_text(nbb_formatted_code);\n                        }\n                        break;\n                    }\n                }\n            }, 500);\n            ",
      "text/plain": [
       "<IPython.core.display.Javascript object>"
      ]
     },
     "metadata": {},
     "output_type": "display_data"
    }
   ],
   "source": [
    "url = \"http://web.directemar.cl/met/jturno/PRONOSTICOS/Cenmeteopmo/72/pmontt72.txt\"\n",
    "html = urlopen(url).read()\n",
    "soup = BeautifulSoup(html, features=\"html.parser\")\n",
    "mail_content = soup"
   ]
  },
  {
   "cell_type": "code",
   "execution_count": 7,
   "id": "43c1dbab",
   "metadata": {},
   "outputs": [
    {
     "data": {
      "text/plain": [
       "INFORME METEOROLOGICO MARITIMO PARA BAHIA DE PUERTO MONTT.\n",
       "VALIDO DESDE 060800 HASTA 062000 HORA LOCAL.\n",
       "SITUACION SINOPTICA:     \n",
       "MARGEN ANTICICLONICO.\n",
       "\n",
       "PRONOSTICO:\n",
       "PARCIAL, VISIBILIDAD 10 KM, VIENTO S/SW 15/5 NDS, MAR RIZADA EN BAHIA.\n",
       "\n",
       "TEMPERATURA MINIMA PROBABLE:  13°C\n",
       "TEMPERATURA MAXIMA PROBABLE:  15°C\n",
       "\n",
       "INDICE DE RADIACION ULTRAVIOLETA: 8 – 10 BAJO (FUENTE DMC).\n",
       "\n",
       "APRECIACION VALIDA DESDE 062000 HASTA 070800 HORA LOCAL.\t\n",
       "MARGEN ANTICICLONICO, PARCIAL A NUBLADO, VISIBILIDAD 10 KM, VIENTO S/SW 10/5 NDS, MAR RIZADA A LLANA EN BAHIA.                                 \n",
       "\n",
       "LUNES 07\n",
       "SITUACION SINOPTICA:     \n",
       "MARGEN ANTICICLONICO.\n",
       "\n",
       "PRONOSTICO:\n",
       "PARCIAL, VISIBILIDAD 10 KM, VIENTO S/SW 8/4 NDS, MAR LLANA A LLANA EN BAHIA.\n",
       "\n",
       "TEMPERATURA MINIMA PROBABLE:  11°C\n",
       "TEMPERATURA MAXIMA PROBABLE:  16°C\n",
       "\n",
       "MARTES 08\n",
       "SITUACION SINOPTICA:\n",
       "MARGEN ANTICICLONICO CON LIGERA INESTABILIDAD.\n",
       "\n",
       "PRONOSTICO:\n",
       "NUBLADO, VISIBILIDAD 8/10 KM CHUBASCOS OCASIONALES, VIENTO W/SW 6/12 NDS, MAR LLANA A LLANA EN BAHIA.\n",
       "\n",
       "TEMPERATURA MINIMA PROBABLE:  11°C\n",
       "TEMPERATURA MAXIMA PROBABLE:  16°C\n",
       "\n",
       "MET011CA"
      ]
     },
     "execution_count": 7,
     "metadata": {},
     "output_type": "execute_result"
    },
    {
     "data": {
      "application/javascript": "\n            setTimeout(function() {\n                var nbb_cell_id = 7;\n                var nbb_unformatted_code = \"soup\";\n                var nbb_formatted_code = \"soup\";\n                var nbb_cells = Jupyter.notebook.get_cells();\n                for (var i = 0; i < nbb_cells.length; ++i) {\n                    if (nbb_cells[i].input_prompt_number == nbb_cell_id) {\n                        if (nbb_cells[i].get_text() == nbb_unformatted_code) {\n                             nbb_cells[i].set_text(nbb_formatted_code);\n                        }\n                        break;\n                    }\n                }\n            }, 500);\n            ",
      "text/plain": [
       "<IPython.core.display.Javascript object>"
      ]
     },
     "metadata": {},
     "output_type": "display_data"
    }
   ],
   "source": [
    "soup"
   ]
  },
  {
   "cell_type": "code",
   "execution_count": 4,
   "id": "5a5519ee",
   "metadata": {},
   "outputs": [
    {
     "data": {
      "application/javascript": "\n            setTimeout(function() {\n                var nbb_cell_id = 4;\n                var nbb_unformatted_code = \"# The mail addresses and password\\nload_dotenv()\\nsender_address = os.environ.get(\\\"SENDER_EMAIL\\\")\\nsender_pass = os.environ.get(\\\"SENDER_EMAIL_PASS\\\")\\nreceiver_address = \\\"fipinoch@gmail.com\\\"\";\n                var nbb_formatted_code = \"# The mail addresses and password\\nload_dotenv()\\nsender_address = os.environ.get(\\\"SENDER_EMAIL\\\")\\nsender_pass = os.environ.get(\\\"SENDER_EMAIL_PASS\\\")\\nreceiver_address = \\\"fipinoch@gmail.com\\\"\";\n                var nbb_cells = Jupyter.notebook.get_cells();\n                for (var i = 0; i < nbb_cells.length; ++i) {\n                    if (nbb_cells[i].input_prompt_number == nbb_cell_id) {\n                        if (nbb_cells[i].get_text() == nbb_unformatted_code) {\n                             nbb_cells[i].set_text(nbb_formatted_code);\n                        }\n                        break;\n                    }\n                }\n            }, 500);\n            ",
      "text/plain": [
       "<IPython.core.display.Javascript object>"
      ]
     },
     "metadata": {},
     "output_type": "display_data"
    }
   ],
   "source": [
    "# Load environment variables and get the mail address, passwordThe mail addresses and password\n",
    "load_dotenv()\n",
    "sender_address = os.environ.get(\"SENDER_EMAIL\")\n",
    "sender_pass = os.environ.get(\"SENDER_EMAIL_PASS\")\n",
    "receiver_address = os.environ.get(\"RECEIVER_EMAIL\")"
   ]
  },
  {
   "cell_type": "code",
   "execution_count": 8,
   "id": "fb791a0f",
   "metadata": {},
   "outputs": [
    {
     "data": {
      "application/javascript": "\n            setTimeout(function() {\n                var nbb_cell_id = 8;\n                var nbb_unformatted_code = \"# Setup the MIME\\nmessage = MIMEMultipart()\\nmessage[\\\"From\\\"] = sender_address\\nmessage[\\\"To\\\"] = receiver_address\\nmessage[\\\"Subject\\\"] = \\\"Test Mail\\\"  # The subject line\\n\\n# The body and the attachments for the mail\\nmessage.attach(MIMEText(mail_content, \\\"plain\\\", _charset='UTF-8'))\";\n                var nbb_formatted_code = \"# Setup the MIME\\nmessage = MIMEMultipart()\\nmessage[\\\"From\\\"] = sender_address\\nmessage[\\\"To\\\"] = receiver_address\\nmessage[\\\"Subject\\\"] = \\\"Test Mail\\\"  # The subject line\\n\\n# The body and the attachments for the mail\\nmessage.attach(MIMEText(mail_content, \\\"plain\\\", _charset=\\\"UTF-8\\\"))\";\n                var nbb_cells = Jupyter.notebook.get_cells();\n                for (var i = 0; i < nbb_cells.length; ++i) {\n                    if (nbb_cells[i].input_prompt_number == nbb_cell_id) {\n                        if (nbb_cells[i].get_text() == nbb_unformatted_code) {\n                             nbb_cells[i].set_text(nbb_formatted_code);\n                        }\n                        break;\n                    }\n                }\n            }, 500);\n            ",
      "text/plain": [
       "<IPython.core.display.Javascript object>"
      ]
     },
     "metadata": {},
     "output_type": "display_data"
    }
   ],
   "source": [
    "# Setup the MIME\n",
    "message = MIMEMultipart()\n",
    "message[\"From\"] = sender_address\n",
    "message[\"To\"] = receiver_address\n",
    "message[\"Subject\"] = \"Test Mail\"  # The subject line\n",
    "\n",
    "# The body and the attachments for the mail\n",
    "message.attach(MIMEText(mail_content, \"plain\", _charset=\"UTF-8\"))"
   ]
  },
  {
   "cell_type": "code",
   "execution_count": 9,
   "id": "6f09deb4",
   "metadata": {},
   "outputs": [
    {
     "name": "stdout",
     "output_type": "stream",
     "text": [
      "Mail Sent\n"
     ]
    },
    {
     "data": {
      "application/javascript": "\n            setTimeout(function() {\n                var nbb_cell_id = 9;\n                var nbb_unformatted_code = \"# Create SMTP session for sending the mail\\nsession = smtplib.SMTP(\\\"smtp.gmail.com\\\", 587)  # use gmail with port\\nsession.starttls()  # enable security\\nsession.login(sender_address, sender_pass)  # login with mail_id and password\\ntext = message.as_string()\\nsession.sendmail(sender_address, receiver_address, text)\\nsession.quit()\\nprint(\\\"Mail Sent\\\")\";\n                var nbb_formatted_code = \"# Create SMTP session for sending the mail\\nsession = smtplib.SMTP(\\\"smtp.gmail.com\\\", 587)  # use gmail with port\\nsession.starttls()  # enable security\\nsession.login(sender_address, sender_pass)  # login with mail_id and password\\ntext = message.as_string()\\nsession.sendmail(sender_address, receiver_address, text)\\nsession.quit()\\nprint(\\\"Mail Sent\\\")\";\n                var nbb_cells = Jupyter.notebook.get_cells();\n                for (var i = 0; i < nbb_cells.length; ++i) {\n                    if (nbb_cells[i].input_prompt_number == nbb_cell_id) {\n                        if (nbb_cells[i].get_text() == nbb_unformatted_code) {\n                             nbb_cells[i].set_text(nbb_formatted_code);\n                        }\n                        break;\n                    }\n                }\n            }, 500);\n            ",
      "text/plain": [
       "<IPython.core.display.Javascript object>"
      ]
     },
     "metadata": {},
     "output_type": "display_data"
    }
   ],
   "source": [
    "# Create SMTP session for sending the mail\n",
    "session = smtplib.SMTP(\"smtp.gmail.com\", 587)  # use gmail with port\n",
    "session.starttls()  # enable security\n",
    "session.login(sender_address, sender_pass)  # login with mail_id and password\n",
    "text = message.as_string()\n",
    "session.sendmail(sender_address, receiver_address, text)\n",
    "session.quit()\n",
    "print(\"Mail Sent\")"
   ]
  }
 ],
 "metadata": {
  "kernelspec": {
   "display_name": "Python 3 (ipykernel)",
   "language": "python",
   "name": "python3"
  },
  "language_info": {
   "codemirror_mode": {
    "name": "ipython",
    "version": 3
   },
   "file_extension": ".py",
   "mimetype": "text/x-python",
   "name": "python",
   "nbconvert_exporter": "python",
   "pygments_lexer": "ipython3",
   "version": "3.9.10"
  }
 },
 "nbformat": 4,
 "nbformat_minor": 5
}
